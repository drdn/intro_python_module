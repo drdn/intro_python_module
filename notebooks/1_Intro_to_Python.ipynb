{
  "nbformat": 4,
  "nbformat_minor": 0,
  "metadata": {
    "kernelspec": {
      "display_name": "Python 3",
      "language": "python",
      "name": "python3"
    },
    "language_info": {
      "codemirror_mode": {
        "name": "ipython",
        "version": 3
      },
      "file_extension": ".py",
      "mimetype": "text/x-python",
      "name": "python",
      "nbconvert_exporter": "python",
      "pygments_lexer": "ipython3",
      "version": "3.6.1"
    },
    "colab": {
      "name": "1-Intro-to-Python.ipynb",
      "provenance": [],
      "collapsed_sections": [],
      "toc_visible": true
    }
  },
  "cells": [
    {
      "cell_type": "markdown",
      "metadata": {
        "id": "-_jopEcfjIWu",
        "colab_type": "text"
      },
      "source": [
        "# Introducton to Python syntax and features"
      ]
    },
    {
      "cell_type": "markdown",
      "metadata": {
        "id": "KHvHnXxq45AW",
        "colab_type": "text"
      },
      "source": [
        "## I. Introduction\n",
        "\n",
        "1. All code and examples use Python 3.x\n",
        "2. We will use the following Python packages:\n",
        "  - Pandas \n",
        "  - Matplotlib\n",
        "  - Numpy\n",
        "3. General instructions:\n",
        "  - Some sections may contain a study drill, which is a small exercise to help you review the concepts. \n",
        "  - You should work through each section in sequence - each section builds upon the previous.\n",
        "    - You can run code using the 'play' button that appears when you click in each interactive cell. Additionally, you can use a keyboard shortcut (shift + enter) to run the contents of the code cell.\n",
        "4. Style conventions:\n",
        "  - In-text code snippets will be formatted like this: \n",
        "  \n",
        "  `print(\"Hello world!\")`\n",
        "  - Interactive cells will look the like code examples, but will have a set of square brackets in the top left ( `[ ]`).\n",
        "\n",
        "  - Study drills will be formatted like this:\n",
        "\n",
        "  > **Study drill:**\n",
        "  > \n",
        "  > What is the difference between these two blocks of code? \n"
      ]
    },
    {
      "cell_type": "markdown",
      "metadata": {
        "id": "ma8Vy-WmRMqN",
        "colab_type": "text"
      },
      "source": [
        "## II. Outline\n",
        "\n",
        "* Python syntax\n",
        "* Built-in data types\n",
        "* Operators\n",
        "* Basic data types\n",
        "* Loops\n",
        "* Functions\n",
        "* Importing data\n"
      ]
    },
    {
      "cell_type": "markdown",
      "metadata": {
        "id": "LSeVxC1XjhgO",
        "colab_type": "text"
      },
      "source": [
        "## III. Syntax\n",
        "\n",
        "Python is an interpreted language, so code may be run in two ways:\n",
        "- \"Interactive\" programming\n",
        "- \"Script\" programming"
      ]
    },
    {
      "cell_type": "markdown",
      "metadata": {
        "id": "IxkNLQEY45AZ",
        "colab_type": "text"
      },
      "source": [
        "\n",
        "\n",
        "### 3.1 \"Interactive mode\" programming\n",
        "\n",
        "Interactive programming allows you to enter code and then immediately see the results. This style of programming is useful for simple operations or \"line by line\" programming. We will be interactively programming in Python in this workshop.\n",
        "\n",
        "- Type the following code in the cell below and use \"Shift+Enter\" to run the code.\n",
        "    ```python\n",
        "    print(\"Hello World!\")\n",
        "    ```\n",
        "    \n",
        "__`print()` is a Python built-in function. This means that it is \"always there.\"__"
      ]
    },
    {
      "cell_type": "code",
      "metadata": {
        "id": "ngpGB2fZ45Ab",
        "colab_type": "code",
        "colab": {}
      },
      "source": [
        "# Type your code below:\n"
      ],
      "execution_count": 0,
      "outputs": []
    },
    {
      "cell_type": "markdown",
      "metadata": {
        "id": "MMdMAM_W0DsM",
        "colab_type": "text"
      },
      "source": [
        "### 3.2 A brief note about \"script mode\" programming\n",
        "For complex programming tasks, it is common to save the code in plain text files with a \".py\" extension. Programming this way allows you to save your code for reuse and automation, and allows you to interact with multiple programs at once. "
      ]
    },
    {
      "cell_type": "markdown",
      "metadata": {
        "id": "Gf1PGK9V45Ah",
        "colab_type": "text"
      },
      "source": [
        "    \n",
        "### 3.3 Quotations & string data\n",
        "\n",
        "Text or string data have to be wrapped in quotation marks otherwise Python will attempt to evaluate the words as code and will raise an error.\n",
        "\n",
        "- Single quotes (`'`)\n",
        "- Double quotes (`\"`)\n",
        "\n",
        "```python\n",
        "a_word = 'Python'\n",
        "a_sentence = \"Today is a beautiful day!\"\n",
        "```\n",
        "\n",
        "Single and double quotes may be used interchangeably, but be careful when using single quotes when your text contains apostrophes!\n",
        "\n",
        "```python\n",
        "# The following string will cause an error:\n",
        "a_sentence = 'Spam and eggs are my friend's favorite foods.'\n",
        "\n",
        "# The same string wrapped in double quotes will be interpreted correctly:\n",
        "a_sentence = \"Spam and eggs are my friend's favorite foods.\"\n",
        "```\n",
        "\n",
        "- Triple quotes (`'''` or `\"\"\"`)\n",
        "\n",
        "```python\n",
        "# A multi-line string:\n",
        "a_paragraph = '''We are starting to study Python. \n",
        "After we finish this tutorial, we will be on our to programming with Python! That's pretty cool!'''\n",
        "```\n",
        "\n",
        "> **Study drill:**\n",
        "> - Create a multi-line comment and store the comment in a variable.\n",
        "> - Return the contents of the variable using `print(variable)`.\n",
        "> - Now return the contents of the variable by calling the variable directly, `variable`.\n",
        "> - What is different between what each printed to the screen?\n",
        "\n",
        "\n",
        "                    \n",
        "\n"
      ]
    },
    {
      "cell_type": "code",
      "metadata": {
        "id": "BTOsAXNmuQ9M",
        "colab_type": "code",
        "colab": {}
      },
      "source": [
        "# Practice here!\n"
      ],
      "execution_count": 0,
      "outputs": []
    },
    {
      "cell_type": "markdown",
      "metadata": {
        "id": "W3SUO7zWohDI",
        "colab_type": "text"
      },
      "source": [
        "### 3.4 Comments\n",
        "- Any line beginning with an octothorpe (or hashtag) `#` is treated as a comment in the Python interpreter.\n",
        "- Comments are a great way to leave explanations or instructions in the code.\n",
        "- For example:\n",
        "\n",
        "    ```python\n",
        "    # Print Hello world with print() function\n",
        "    print(\"Hello World!\")\n",
        "    ```\n",
        "- Multi-line comments should be wrapped in triple quotes, for example:\n",
        "\n",
        "    ```python\n",
        "    '''\n",
        "    This comment will cover multiple lines.\n",
        "    Anything between the triple quotes will be interpreted as a comment.\n",
        "    Neat!\n",
        "    '''\n",
        "    ```\n",
        "\n",
        "Although multi-line comments are possible with tripe quotes, it is common to only use them as Docstrings for functions. If you are writing comments in your code that spans multiple lines, you should get in the habit of using the single line octothorpe/hash comment style. "
      ]
    },
    {
      "cell_type": "markdown",
      "metadata": {
        "id": "t_SSTB8Rohag",
        "colab_type": "text"
      },
      "source": [
        "### 3.5 Reserved words in Python\n",
        "\n",
        "- The following reserved words cannot be used as variable names or other identifier names (__Lower case only__). In general, you should avoid using any variation of these words in your variable names.\n",
        "\n",
        "|          ||         ||        |\n",
        "|:---:     ||:---:    ||:---:   |  \n",
        "| assert   || finally || or     |\n",
        "| break    || for     || pass   |\n",
        "| class    || from    || print  |\n",
        "| continue || global  || raise  |\n",
        "| def      || if      || return |\n",
        "| del      || import  || try    |\n",
        "| elif     || in      || while  |\n",
        "| else     || is      || with   |\n",
        "| except   || lambda  || yield  | \n",
        "| not      || exec    || and    |"
      ]
    },
    {
      "cell_type": "markdown",
      "metadata": {
        "id": "a2dA7GKKohwH",
        "colab_type": "text"
      },
      "source": [
        "### 3.6 Indentation\n",
        "\n",
        "- The number of spaces in the indentation is variable (typically four of five spaces), but all statements within the block must be indented the same amount.\n",
        "\n",
        "In the examples below, the `if` statement is not indented, but the statement that follows the colon is indented.\n",
        "\n",
        "- For example:\n",
        "\n",
        "  __Copy below code to the below cell and run it:__    \n",
        "  ```python \n",
        "  # A correct if statement\n",
        "  if 2 > 3:\n",
        "      print(True)\n",
        "  else:\n",
        "      print(False)\n",
        "  ```\n",
        "\n",
        "  __Copy below code to the below cell and run it:__\n",
        "  ```python\n",
        "  # An incorrect if statement\n",
        "  if 2 > 3:\n",
        "      print(True)\n",
        "  else:\n",
        "  print(False)\n",
        "  ```\n",
        "  \n",
        "> **Study Drill:**\n",
        ">\n",
        "> What are the differences between these two blocks of code?"
      ]
    },
    {
      "cell_type": "code",
      "metadata": {
        "id": "boxAVU5b45Ak",
        "colab_type": "code",
        "colab": {}
      },
      "source": [
        "# Try each code block here!\n"
      ],
      "execution_count": 0,
      "outputs": []
    },
    {
      "cell_type": "markdown",
      "metadata": {
        "id": "NErt8OYbkLEn",
        "colab_type": "text"
      },
      "source": [
        "### 3.7 Built-in data types\n",
        "\n",
        "All data in Python has a type associated with it. Data types allow you to perform operations like arthmetic and text formatting. When you create data, Python can often automatically determine what type it is. However, it can be useful to explictly specify the type.\n",
        "\n",
        "Here we only cover some basic built-in data types (Strings, Integers, Floats). Click [here](https://docs.python.org/2/library/stdtypes.html#numeric-types-int-float-long-complex) for More."
      ]
    },
    {
      "cell_type": "markdown",
      "metadata": {
        "id": "nQZoNesZ45An",
        "colab_type": "text"
      },
      "source": [
        "\n",
        "\n",
        "#### 3.7.1 Numeric data\n",
        "- Integers\n",
        "    ```python\n",
        "    # Assign the number 1 to the variable `an_integer` with assignment operator `=`.\n",
        "    # Now, the variable `an_integer` has the value `1`.\n",
        "    an_integer = 1\n",
        "\n",
        "    # Alternatively, we could explicitly specify 1 is an integer using int()\n",
        "    an_interger = int(1)\n",
        "    ```\n",
        "- Floats \n",
        "    ```python\n",
        "    # Assign a floating point number to the variable `a_float` with assignment operator `=`.\n",
        "    # Now,the variable `a_float` represents the floating point number.\n",
        "    a_float = 1.4325\n",
        "\n",
        "    # Alternatively, we could explicitly specify 1.4325 is a float using float()\n",
        "    a_float = float(1.4325)\n",
        "    ```\n",
        "\n"
      ]
    },
    {
      "cell_type": "markdown",
      "metadata": {
        "id": "STlnj0I7nyRq",
        "colab_type": "text"
      },
      "source": [
        "#### 3.7.2 Textual data \n",
        "- Strings\n",
        "    ```python\n",
        "    # Assign a string `Hello` to the variable `greeting_text` with assignment operator `=`.\n",
        "    # Now, the variable `greeting_text` represents the string `Hello`.\n",
        "    greeting_text = \"Hello\"\n",
        "    ```\n",
        "Anything that is wrapped in quotation marks will be treated as a string. However, it is sometiems useful to convert numeric data into strings without using quotations. We can use `str()` to accomplish this.\n",
        "\n",
        "```python\n",
        "# Convert the value of an_integer to a string\n",
        "str(an_integer)\n",
        "\n",
        "# We can also pass raw numeric data to str() as well\n",
        "str(6174)\n",
        "```"
      ]
    },
    {
      "cell_type": "code",
      "metadata": {
        "id": "wqJOuybVoKxj",
        "colab_type": "code",
        "colab": {}
      },
      "source": [
        "# Create some variables and assign some string or character data to them.\n",
        "# The variable names and content you assign to them are up to you!\n"
      ],
      "execution_count": 0,
      "outputs": []
    },
    {
      "cell_type": "markdown",
      "metadata": {
        "id": "09-NFfd1ny12",
        "colab_type": "text"
      },
      "source": [
        "#### 3.7.3 Checking the data type of a variable\n",
        "What's the difference between `1` and `\"1\"`? Python interprets `1` as an integer and `\"1\"` as character or string data. When you print the value of a variable, the results are displayed as character data, which makes it difficult to confirm what the actual data type stored in a variable is.\n",
        "\n",
        "You can check the data type of any value using the `type()` function.\n",
        "```python\n",
        "# Assign the integer `1` to a variable `an_integer`\n",
        "# Assign the string `\"1\"` to a variable `a_string`\n",
        "# Confirm the data type or \"class' of each using `type()`\n",
        "an_integer = 1\n",
        "a_string = \"1\"\n",
        "type(an_integer)\n",
        "type(a_string)\n",
        "\n",
        "# Just to test that type works as expected, \n",
        "# let's convert a integer to a string and then check the type\n",
        "type(str(1))\n",
        "\n",
        "```\n",
        "\n",
        "> **Study Drill:** \n",
        ">\n",
        "> 1. Declare three variables and assign an integer, a float, and string to each.\n",
        "> 2. Return the value of each variable by typing the variable name.\n",
        "> 3. Try returing the value of each using the `print()` function.\n",
        "> 4. Confirm that the value stored in each of your variables is what it should be using the `type()` function.\n",
        ">\n",
        "> How do the results of calling the variable, printing the value of the variable, and testing the type of each variable differ?"
      ]
    },
    {
      "cell_type": "code",
      "metadata": {
        "id": "wdinP8G445Ap",
        "colab_type": "code",
        "colab": {}
      },
      "source": [
        "# Explore built-in data types here!\n"
      ],
      "execution_count": 0,
      "outputs": []
    },
    {
      "cell_type": "markdown",
      "metadata": {
        "id": "z_xNSf7G45At",
        "colab_type": "text"
      },
      "source": [
        "### 3.8 Basic arithmetic\n",
        "\n",
        "- Addition `+`\n",
        "    - \n",
        "    ```python\n",
        "    2 + 2\n",
        "    ```\n",
        "- Subtraction `-`\n",
        "    - \n",
        "    ```python\n",
        "    4 - 2\n",
        "    ```\n",
        "- Division `/`\n",
        "    - \n",
        "    ```python\n",
        "    4 / 2\n",
        "    ```\n",
        "- Multiplication `*`\n",
        "    - \n",
        "    ```python\n",
        "    2 * 2\n",
        "    ```\n",
        "- Modulo `%`\n",
        "    - \n",
        "    ```python\n",
        "    5 % 2\n",
        "    ```\n",
        "    \n",
        "> **Study drill:**\n",
        ">\n",
        "> Find the answers of the above operations by using the cell below."
      ]
    },
    {
      "cell_type": "code",
      "metadata": {
        "id": "icqDBl0D45Av",
        "colab_type": "code",
        "colab": {}
      },
      "source": [
        "# Do your arithmetic here!\n"
      ],
      "execution_count": 0,
      "outputs": []
    },
    {
      "cell_type": "markdown",
      "metadata": {
        "id": "Ood5Wy8u45Az",
        "colab_type": "text"
      },
      "source": [
        "### 3.9 Logical operators\n",
        " The data type returned by following are Boolean i.e., The output will be either True or False.\n",
        "- Less than   <\n",
        "    - \n",
        "    ```python\n",
        "    4 < 2\n",
        "    ```\n",
        "- Greater than  > \n",
        "    - \n",
        "    ```python\n",
        "    3 > 1\n",
        "    ```\n",
        "- Equals == \n",
        "    - \n",
        "    ```python\n",
        "    True == False\n",
        "    ```\n",
        "- Not equal != \n",
        "    - \n",
        "    ```python\n",
        "    2 != 2\n",
        "    ```\n",
        "- Less than or equal <= \n",
        "    - \n",
        "    ```python\n",
        "    3 <= 4\n",
        "    ```\n",
        "- Greater than or equal >= \n",
        "    - \n",
        "    ```python\n",
        "    3 >= 2\n",
        "    ```\n",
        "    \n",
        "> **Study drill:** \n",
        "> Evaluate each logical statement above. Use the below cell to run the each operation and get the answer (`True` or `False`). \n",
        ">\n",
        "> Hint: Run one line code each time."
      ]
    },
    {
      "cell_type": "code",
      "metadata": {
        "id": "ulvLkZdr45A1",
        "colab_type": "code",
        "colab": {}
      },
      "source": [
        "# Evaluate your logical statements here!\n"
      ],
      "execution_count": 0,
      "outputs": []
    },
    {
      "cell_type": "markdown",
      "metadata": {
        "id": "egKFlVuI45A4",
        "colab_type": "text"
      },
      "source": [
        "## IV. Basic data structures\n",
        "\n",
        "In order to get the most value out Python, we will need to organize our data.\n",
        "Python has three basic data structures: \n",
        "1. Lists (mutable collections of objects)\n",
        "2. Tuples (immutable collection of objects)\n",
        "3. Dictionaries (collections of \"key-value\" pairs)\n",
        "\n"
      ]
    },
    {
      "cell_type": "markdown",
      "metadata": {
        "id": "e1_XhLy3nkek",
        "colab_type": "text"
      },
      "source": [
        "### 4.1 Lists\n",
        "\n",
        "- Lists are comma separated sequnces of object enclosed in square brackets (`[..., ...]`)\n",
        "- Lists can contain different data types(variables, integers, floats, strings, etc.)\n",
        "\n",
        "Copy the following code to the below cell and use __\"Shift+Enter\"__ to run it:\n",
        "```python\n",
        "list_of_numbers = [1, 2, 3, 4, 5, 6]\n",
        "list_of_strings = ['a', 'b', 'c', 'd', 'e', 'f']\n",
        "list_of_mixed_types = [1, 'a', 2, 'b', 3.14, 'Section 4.1 - Lists']\n",
        "```"
      ]
    },
    {
      "cell_type": "code",
      "metadata": {
        "id": "H3_CgVkP45A5",
        "colab_type": "code",
        "colab": {}
      },
      "source": [
        "# Create the lists here!\n"
      ],
      "execution_count": 0,
      "outputs": []
    },
    {
      "cell_type": "code",
      "metadata": {
        "id": "FhkjgfrIBeIA",
        "colab_type": "code",
        "colab": {}
      },
      "source": [
        "# Practice here!\n",
        "# Call each list variable to see the contents\n"
      ],
      "execution_count": 0,
      "outputs": []
    },
    {
      "cell_type": "markdown",
      "metadata": {
        "id": "yTBTPE6E45A9",
        "colab_type": "text"
      },
      "source": [
        "#### 4.1.1 List indexes\n",
        "- Lists are unordered sequences of elements, i.e. by default, the value of an element has no impact on its position within the list.\n",
        "- Each element can be accessed using a positional index (__Note: Python indexes start with 0__).\n",
        "- The syntax for accessing list elements by index position is `name_of_list[index]`\n",
        "- Copy the following code to the below cell and use \"**Shift+Enter**\" to run it:\n",
        "\n",
        "```python\n",
        "# Below code will get the first element of `list_of_numbers` list\n",
        "list_of_numbers[0]\n",
        "```"
      ]
    },
    {
      "cell_type": "code",
      "metadata": {
        "id": "M4SdVjTa45A_",
        "colab_type": "code",
        "colab": {}
      },
      "source": [
        "# Practice here!\n",
        "# Return the element in postion 0\n"
      ],
      "execution_count": 0,
      "outputs": []
    },
    {
      "cell_type": "markdown",
      "metadata": {
        "id": "gGVZi2mV45BC",
        "colab_type": "text"
      },
      "source": [
        "> **Study Drill:**\n",
        ">\n",
        ">- What is the __2nd__ element of `list_of_numbers`?\n",
        ">- What is the __5th__ element of `list_of_strings`?\n",
        ">- What are the __2nd and 4th__ elements of `list_of_mixed_types`?\n"
      ]
    },
    {
      "cell_type": "code",
      "metadata": {
        "id": "BcpKpt1445BC",
        "colab_type": "code",
        "colab": {}
      },
      "source": [
        "# Practice here!\n"
      ],
      "execution_count": 0,
      "outputs": []
    },
    {
      "cell_type": "markdown",
      "metadata": {
        "collapsed": true,
        "id": "L11FsVr245BH",
        "colab_type": "text"
      },
      "source": [
        "#### 4.1.2 Append a list\n",
        "\n",
        "- We can use the `append` method to add a element to the end of a list. \n",
        "- __Methods__ are a way to interact with an object such as a list. \n",
        "- We can use a method using dot notation (`object.method()`). Type the name of the ojbect followed by `.` and then the method name and `()`. Some methods can accept arguments, which are placed in between the parentheses.\n",
        "\n",
        "```python\n",
        "# Add `element` to the list `Listname`\n",
        "Listname.append(element)\n",
        "```\n",
        "Copy following code to the below cell and use \"Shift+Enter\" to run it:\n",
        "\n",
        "```python\n",
        "  # Create a list\n",
        "  some_list = [1, 2, 3, 4, 5, 6]\n",
        "    \n",
        "  # Add the element \"7\" to the list\n",
        "  some_list.append(7)\n",
        "    \n",
        "  # Print all elements in the list\n",
        "  print(some_list)\n",
        "```"
      ]
    },
    {
      "cell_type": "code",
      "metadata": {
        "id": "zIBC39Hy45BI",
        "colab_type": "code",
        "colab": {}
      },
      "source": [
        "# Practice here!\n"
      ],
      "execution_count": 0,
      "outputs": []
    },
    {
      "cell_type": "markdown",
      "metadata": {
        "id": "TEcfPpWj45BL",
        "colab_type": "text"
      },
      "source": [
        "#### 4.1.3 Insert an element into a list\n",
        "\n",
        "- We can use the `insert()` method to insert an element to any part of the list using an index number. \n",
        "- The first argument of the `insert()` method is the element position you want to insert (__Note: Python indexes start with 0__).\n",
        "- Copy following code to the cell below and use \"Shift+Enter\" to run it:\n",
        "\n",
        "```python\n",
        "# Create a list\n",
        "another_list = [1, 2, 3, 4, 5, 6]\n",
        "\n",
        "# Add the element \"10\" as the first element of the list\n",
        "another_list.insert(0, 10)\n",
        "\n",
        "# Print the elements in the list\n",
        "print(another_list)\n",
        "```"
      ]
    },
    {
      "cell_type": "code",
      "metadata": {
        "id": "aqkk1E-v45BM",
        "colab_type": "code",
        "colab": {}
      },
      "source": [
        "# Practice here!\n"
      ],
      "execution_count": 0,
      "outputs": []
    },
    {
      "cell_type": "markdown",
      "metadata": {
        "id": "ojvEAayT45BQ",
        "colab_type": "text"
      },
      "source": [
        "#### 4.1.4 Removing elements from a list\n",
        "\n",
        "- We can use the `remove()` method to remove an element from any part of the list. \n",
        "- In this example, the `remove()` method takes a single argument which is the postion of the element you want to remove (__Note: Python indexes start with 0__).\n",
        "- Copy following code to the below cell and use\"Shift+Enter\" to run it:\n",
        "\n",
        "```python\n",
        "# Create a list\n",
        "spam_numbers = [1, 2, 3, 4, 5, 6]\n",
        "\n",
        "# Remove the element at index 2\n",
        "spam_numbers.remove(2)\n",
        "\n",
        "# Print the elements in the list\n",
        "print(spam_numbers)\n",
        "```"
      ]
    },
    {
      "cell_type": "code",
      "metadata": {
        "id": "QI0ZnVC945BR",
        "colab_type": "code",
        "colab": {}
      },
      "source": [
        "# Practice here!\n"
      ],
      "execution_count": 0,
      "outputs": []
    },
    {
      "cell_type": "markdown",
      "metadata": {
        "id": "XxM_lJ0k45BT",
        "colab_type": "text"
      },
      "source": [
        "#### 4.1.5 List slicing\n",
        "\n",
        "- If we only want to print some elements of the list, but not all of them, we can \"slice\" the list.\n",
        "- List slicing uses two index numbers separated by a colon to specify a range of elements.\n",
        "- The range you use to slice a list will return the first specified element *up to, but not including,* the second element.\n",
        "- Copy following code to the cell below and use \"Shift+Enter\" to run it:\n",
        "\n",
        "```python\n",
        "# Create a list\n",
        "list_to_slice = [1, 2, 3, 4, 5, 6]\n",
        "\n",
        "# Print the 2nd element of the List\n",
        "print(list_to_slice[1])\n",
        "\n",
        "# Print the 2nd and 3rd elements of the List\n",
        "print(list_to_slice[1:3])\n",
        "\n",
        "# Print the all elements before 3rd element in the List.\n",
        "print(list_to_slice[:3])\n",
        "\n",
        "# Print the all elements after 2nd element in the List.\n",
        "print(list_to_slice[2:])\n",
        "```"
      ]
    },
    {
      "cell_type": "code",
      "metadata": {
        "id": "71s05MDl45BU",
        "colab_type": "code",
        "colab": {}
      },
      "source": [
        "# Practice here!\n"
      ],
      "execution_count": 0,
      "outputs": []
    },
    {
      "cell_type": "markdown",
      "metadata": {
        "id": "HCt0CfEZ45BX",
        "colab_type": "text"
      },
      "source": [
        "> **Study Drill:**\n",
        ">\n",
        "> What did you notice about the syntax for slicing the list to return the 2nd and 3rd elements of the list?\n",
        ">\n",
        "> Create a list in the below cell: `practice_list = [1, 2, 4, 5, 6]`\n",
        ">    - Insert a \"3\" into the third position in the list\n",
        ">    - Remove last element of the list\n",
        ">    - Append a \"7\" to the list\n",
        ">    - Print all elements\n",
        ">    - What happens if you don't use the `print()` function? Try to return the first element of `practice_list` without using the `print` statement."
      ]
    },
    {
      "cell_type": "code",
      "metadata": {
        "id": "-YIwj8wd45BZ",
        "colab_type": "code",
        "colab": {}
      },
      "source": [
        "# Practice here!\n"
      ],
      "execution_count": 0,
      "outputs": []
    },
    {
      "cell_type": "markdown",
      "metadata": {
        "id": "GeU_Fa_745Bb",
        "colab_type": "text"
      },
      "source": [
        "### 4.2 Tuples\n",
        "- Tuples are enclosed in parentheses`()` and values are sperated by commas `,`.\n",
        "- Copy the following code to the below cell and use __\"Shift+Enter\"__ to run it:\n",
        "```python\n",
        "spam_tuple = (1, 2, 3, 4, 5, 6)\n",
        "```\n",
        "\n",
        "> **Study drill:**\n",
        ">\n",
        "> How do lists and tuples differ?\n",
        ">\n",
        "> Try using a list method on a tuple. What happens?\n"
      ]
    },
    {
      "cell_type": "code",
      "metadata": {
        "id": "X9Rf8xLZVs9C",
        "colab_type": "code",
        "colab": {}
      },
      "source": [
        "# Practice here!\n"
      ],
      "execution_count": 0,
      "outputs": []
    },
    {
      "cell_type": "markdown",
      "metadata": {
        "id": "l8OHSs6W45Bc",
        "colab_type": "text"
      },
      "source": [
        "### 4.3 Dictionaries\n",
        "- A Dictionary is a structure that stores pairs of objects, e.g. keys and values.\n",
        "- Dictionaries are like lists, except that you index them with keys. \n",
        "- Keys have to be unique within the dictionary and named using something immutable, such as a tuple, string, or integer.\n",
        "- Dictionaries are enclosed in curly braces `{}` and keys are separated from values using a colon.\n",
        "- Copy following code to the below cell and use\"Shift+Enter\" to run it:\n",
        "\n",
        "```python\n",
        "# A Dictionary\n",
        "days_of_the_week = {1: 'Monday', 2: 'Tuesday', 3: 'Wednesday', 4: 'Thursday', 5: 'Friday', 6: 'Saturday', 7: 'Sunday'}\n",
        "\n",
        "# Print the paired value of the key \"2\"\n",
        "print(days_of_the_week[2])\n",
        "```"
      ]
    },
    {
      "cell_type": "code",
      "metadata": {
        "id": "agvDZwoz45Bc",
        "colab_type": "code",
        "colab": {}
      },
      "source": [
        "# Enter your code here!\n",
        "\n"
      ],
      "execution_count": 0,
      "outputs": []
    },
    {
      "cell_type": "markdown",
      "metadata": {
        "id": "1OfZDStgXm9e",
        "colab_type": "text"
      },
      "source": [
        "You can assign a new value to a key using the following syntax: `days_of_the_week[1] = 'Sunday'`\n",
        "\n",
        "> **Study drill:**\n",
        ">\n",
        "> Update the values of `days_of_the_week` accordingly so that the week begins on Sunday.\n"
      ]
    },
    {
      "cell_type": "code",
      "metadata": {
        "id": "mIALOM2DaCeh",
        "colab_type": "code",
        "colab": {}
      },
      "source": [
        "# Update your dictionary here!\n"
      ],
      "execution_count": 0,
      "outputs": []
    },
    {
      "cell_type": "markdown",
      "metadata": {
        "id": "0EMTGEldnXRA",
        "colab_type": "text"
      },
      "source": [
        "## V. Flow control: a.k.a. 'loops'\n",
        "Loops allow you to repeat a block of code or perform an action multiple times until a specified condition terminates the loop. We will cover three different types of flow control:\n",
        "\n",
        "1. The `while` loop\n",
        "2. The `for` loop\n",
        "3. The `if-else` statement"
      ]
    },
    {
      "cell_type": "markdown",
      "metadata": {
        "id": "Dz8Q7LSl45Bf",
        "colab_type": "text"
      },
      "source": [
        "### 5.1 The `while` loop\n",
        "- Repeats a statement or group of statements while a given condition is `True`. \n",
        "- Useful for when a condition needs to be checked each iteration, or to repeat a block of code numerous times.\n",
        "\n",
        "  ![WhileLoop](https://raw.githubusercontent.com/drdn/intro_python_module/master/assets/python_while_loop.jpg)\n",
        "    > Image credit: Tutorialspoint.com\n",
        "\n",
        "- Copy the following code to the below cell and use __\"Shift+Enter\"__ to run it:\n",
        "\n",
        "```python \n",
        "# Assign the value `0` to a variable named `eggs`\n",
        "eggs = 0\n",
        "\n",
        "# Write a while loop that continues until the value of `eggs` is less than 10\n",
        "while eggs < 10:\n",
        "  # Increment the value of `eggs` by `1`\n",
        "  eggs = eggs + 1\n",
        "  # Print the current value of `eggs`\n",
        "  print(eggs)\n",
        "```"
      ]
    },
    {
      "cell_type": "code",
      "metadata": {
        "id": "Kx4NDOzo45Bg",
        "colab_type": "code",
        "colab": {}
      },
      "source": [
        "# Copy just the code, not the comments here. Remember to preserve the correct indentation!\n"
      ],
      "execution_count": 0,
      "outputs": []
    },
    {
      "cell_type": "markdown",
      "metadata": {
        "id": "m6OD1Kn345Bj",
        "colab_type": "text"
      },
      "source": [
        "### 5.2 The `for` loop\n",
        "- `for` loops are traditionally used when you have a block of code that you want to repeat a fixed number of times. \n",
        "- In Python, the `for` statement iterates over the members of a sequence in order, executing the block each time.\n",
        "\n",
        "  ![ForLoop](https://raw.githubusercontent.com/drdn/intro_python_module/master/assets/python_for_loop.jpg)\n",
        "  > Image credit: Tutorialspoint.com\n",
        "\n",
        "- Copy the following code to the cell below and use __\"Shift+Enter\"__ to run it:\n",
        "```python\n",
        "# A for loop\n",
        "numbers = 0\n",
        "for i in range(10):\n",
        "    numbers = numbers + 1\n",
        "    print(numbers)\n",
        "```"
      ]
    },
    {
      "cell_type": "code",
      "metadata": {
        "id": "SeeHukco45Bj",
        "colab_type": "code",
        "colab": {}
      },
      "source": [
        "# Try out the for loop here!\n"
      ],
      "execution_count": 0,
      "outputs": []
    },
    {
      "cell_type": "markdown",
      "metadata": {
        "id": "qIKZuXRbfx74",
        "colab_type": "text"
      },
      "source": [
        "> **Study drill:**\n",
        ">\n",
        "> Our example of a `while` loop and a `for` loop are very similar. What's the difference?\n",
        ">\n",
        "> The `for` loop also introduced the `range()` function. Can you guess what it does?"
      ]
    },
    {
      "cell_type": "markdown",
      "metadata": {
        "id": "hv_s63rF45Bm",
        "colab_type": "text"
      },
      "source": [
        "### 5.3 The `if-else` statement\n",
        "The `if-else` statement is a powerful way to create multiple outcomes for the same piece of code. Some examples how the `if-else` statement can be used:\n",
        "- Return different text for even and odd values.\n",
        "- Write placeholder text to a spreadsheet in the event of an error or unexpected value.\n",
        "- Test a string for specific formatting, such as an email address, and if the email is incorrectly formatted, prompt a user to re-enter their email address.\n",
        "\n",
        "  ![IfELSE](https://raw.githubusercontent.com/drdn/intro_python_module/master/assets/decision_making.jpg)\n",
        "    > Image credit: Tutorialspoint.com\n",
        "\n",
        "- Copy the following code to the below cell and use __\"Shift+Enter\"__ to run it.\n",
        "- On the first run, enter a value greater than 50.\n",
        "- Run the code again with __\"Shift+Enter\"__ and enter a value less than 50\n",
        "\n",
        "```python\n",
        "# Define a Variable \"Weight\" \n",
        "weight = float(input(\"How many pounds does your suitcase weigh? \"))\n",
        "\n",
        "# If Statement: Judge if weight over than 50 lbs\n",
        "if weight > 50:\n",
        "\n",
        "    # If the value we input here is bigger 50 would print following statement\n",
        "    print(\"There is a $25 charge for luggage that heavy.\")\n",
        "    \n",
        "else:\n",
        "    # If the value we input here is less than 50, would print following statement\n",
        "    print(\"There is no charge for your luggage. Thanks!\")\n",
        "```"
      ]
    },
    {
      "cell_type": "code",
      "metadata": {
        "id": "Bsn4qUQ745Bn",
        "colab_type": "code",
        "colab": {}
      },
      "source": [
        "# Enter your code here!\n"
      ],
      "execution_count": 0,
      "outputs": []
    },
    {
      "cell_type": "markdown",
      "metadata": {
        "id": "BBae48yz45Bp",
        "colab_type": "text"
      },
      "source": [
        "## VI. Functions\n",
        "\n",
        "A function is a block of organized, reusable code that is used to perform a specific task. Using functions is beneficial and introduce modularity and reusability of the same code. \n",
        "\n",
        "For example, `print()` is a function; it performs the same action everytime, but there is a lot of code that we don't see. \n",
        "\n",
        "We can create our own functions in Python.\n",
        "\n",
        "- Functions have to be defined using the `def` keyword. \n",
        "- The entire body of the function is indented.\n",
        "- It is good practice to include a multi-line comment known as a 'docstring' which explains what the function does and what the requirements are.\n",
        "\n",
        "We're going to create a simple function that prompts a user for two numbers and then returns the sum."
      ]
    },
    {
      "cell_type": "code",
      "metadata": {
        "id": "oi0VoKV045Bq",
        "colab_type": "code",
        "colab": {}
      },
      "source": [
        "# Shift+Enter to run this code\n",
        "def interactive_addition():\n",
        "  '''\n",
        "  The arguments passed to this function will be summmed \n",
        "  and returned.\"\n",
        "  ''' \n",
        "  # Prompt a user to input the values of a and b\n",
        "  a = float(input(\"Please input the first number: \"))\n",
        "  b = float(input(\"Please input the second number: \"))\n",
        "\n",
        "  # Do the math\n",
        "  result = a + b\n",
        "  return result\n"
      ],
      "execution_count": 0,
      "outputs": []
    },
    {
      "cell_type": "code",
      "metadata": {
        "id": "wKsm7r1smmCb",
        "colab_type": "code",
        "colab": {}
      },
      "source": [
        "# Run the cell above and then call the function `interactive_addition()`\n"
      ],
      "execution_count": 0,
      "outputs": []
    },
    {
      "cell_type": "markdown",
      "metadata": {
        "id": "tE6UGCekokR7",
        "colab_type": "text"
      },
      "source": [
        "This function is useful if you want to perform interactive addition. Notice that there are no arguments required in function definition.\n",
        "\n",
        "If you wanted to create something more reusable, remove the input prompts and add arguments to the function definition.\n",
        "\n",
        "For example:\n",
        "\n",
        "```python\n",
        "def add_two_numbers(a, b):\n",
        "  '''Returns the sum of two numbers.'''\n",
        "  result = float(a) + float(b)\n",
        "  return result\n",
        "```\n",
        "\n",
        "> **Study drill:**\n",
        ">\n",
        "> 1. Add two numbers using the `add_two_numbers` function.\n",
        "> 2. Create a new function called `add_terms` which sums three terms.\n",
        "> 3. Edit the `return` statement to print a message along with the result. (**Hint:** Use the following syntax `print(\"Message\", result)` "
      ]
    },
    {
      "cell_type": "code",
      "metadata": {
        "id": "i1shIN7ZsjoU",
        "colab_type": "code",
        "colab": {}
      },
      "source": [
        "# Practice writing functions here\n"
      ],
      "execution_count": 0,
      "outputs": []
    },
    {
      "cell_type": "markdown",
      "metadata": {
        "id": "cDdB6Xk945Bs",
        "colab_type": "text"
      },
      "source": [
        "## VII. Importing modules and data\n",
        "\n",
        "Python only loads a set of basic libraries on startup, but there are a lot more available in both the default Python distribution and from the Python community. Although a specific module/library may be installed on your computer, you cannot access the code until you `import` it. The `import` statement has a simple syntax: `import nameOfModule`.\n",
        "\n",
        "- The following code shows how to import two modules:\n",
        "  1. Pandas, a popular data analysis library, and\n",
        "  2. NumPy, a scientific computing library\n",
        "\n",
        "```python\n",
        "# Import Pandas\n",
        "import pandas\n",
        "# Import NumPy\n",
        "import numpy\n",
        "```\n",
        "- There is nothing wrong with your code if Pandas or Numpy are imported this way. However, if you were to use any of the functions from either one of these modules, you would have to type the full name each time, e.g. `pandas.read_csv()`.\n",
        "- To save a few keystrokes, you can give modules a short alias. Pandas is commonly imported as `pd` and Numpy as `np`. Knowing these conventions is also useful when reusing other people's code.\n",
        "\n",
        "```python\n",
        "import pandas as pd\n",
        "import numpy as np\n",
        "```\n",
        "\n"
      ]
    },
    {
      "cell_type": "markdown",
      "metadata": {
        "id": "kiZejA1qnFbl",
        "colab_type": "text"
      },
      "source": [
        "### 7.1 Import a plain text file (CSV)\n",
        "A comma-separated values (CSV) file stores tabular data as plain text with distinct records on each line and each record containg one or more fields or values. The use of the comma as a field separator is the source of the name for this file format.\n",
        "\n",
        "- There are several ways to read CSV files into Python, but we will be using Pandas here for its simplicity.\n",
        "- Pandas stores tabular data in data structures known as 'data frames.' A common convention is to assign data frames to variables with `df` in the variable name.\n",
        "- Copy the following code to the below cell and use __\"Shift+Enter\"__ to run it\n",
        "\n",
        "  ```python\n",
        "  import pandas as pd\n",
        "  data = pd.read_csv('https://raw.githubusercontent.com/drdn/intro_python_module/master/data/data.csv')\n",
        "  print(data)\n",
        "  ```\n",
        "  **Note:** The data file is being sourced from a URL. We could also read the file from a local filesystem or even from Google Drive! The file is provided to you in this manner to account for differences in operating systems and varying levels of familiarity with navigating file systems."
      ]
    },
    {
      "cell_type": "code",
      "metadata": {
        "id": "-c4cUBdE45Bt",
        "colab_type": "code",
        "colab": {}
      },
      "source": [
        "# Enter your code here\n"
      ],
      "execution_count": 0,
      "outputs": []
    },
    {
      "cell_type": "markdown",
      "metadata": {
        "id": "E5MVIwWF45Bv",
        "colab_type": "text"
      },
      "source": [
        "### 7.2 Import Excel files (with multiple worksheets)\n",
        "\n",
        "CSV files are a platform independent spreadsheet format. However, you might create data using Excel or receive data in an Excel format. Pandas has a function specifically for reading Excel data.\n",
        "\n",
        "- Copy the following code to the below cell and use __\"Shift+Enter\"__ to run it\n",
        "\n",
        "```python\n",
        "# Import pandas\n",
        "import pandas as pd\n",
        "\n",
        "# Store the data file name in the `file` variable\n",
        "file = 'https://github.com/drdn/intro_python_module/blob/master/data/UN_Data.xltx?raw=true'\n",
        "\n",
        "# Read the Excel file using the `ExcelFile` function\n",
        "# Store the data in the `UN` variable\n",
        "UN = pd.ExcelFile(file)\n",
        "\n",
        "# Excel files have a `sheet_names` attribute\n",
        "# Find the names of the sheets in the `UN` Excel object\n",
        "UN.sheet_names\n",
        "\n",
        "# Use the `.parse()` method on an Excel file to extract a specific sheet\n",
        "df_HDI = UN.parse('HDI')\n",
        "\n",
        "# Print the contents of df_HDI to the console\n",
        "print(df_HDI)\n",
        "```"
      ]
    },
    {
      "cell_type": "code",
      "metadata": {
        "id": "iexbUmm0Lgiu",
        "colab_type": "code",
        "colab": {}
      },
      "source": [
        "# Enter your code here!\n"
      ],
      "execution_count": 0,
      "outputs": []
    },
    {
      "cell_type": "markdown",
      "metadata": {
        "id": "HbSZJYueMVn2",
        "colab_type": "text"
      },
      "source": [
        "## VII. The End!\n",
        "\n",
        "Congratulations! You've completed the first section of the Intro to Python online learning module!\n",
        "\n",
        "Take a break, and when you're ready, continue on to the next section, [Working with Data using Python and Pandas]()!"
      ]
    },
    {
      "cell_type": "markdown",
      "metadata": {
        "id": "XLK5v8YPjDPT",
        "colab_type": "text"
      },
      "source": [
        "## References:\n",
        "- Data Carpentry : http://www.datacarpentry.org/python-ecology-lesson/00-short-introduction-to-Python/\n",
        "- Tutorials Point: https://www.tutorialspoint.com/python/\n",
        "- Python 3 Document: https://docs.python.org/3/\n",
        "- Matplotlib: https://matplotlib.org/\n",
        "- Data Camp: https://www.datacamp.com/\n",
        "- Plotly: https://plot.ly/\n",
        "- Sentdex Youtube Channel : https://www.youtube.com/user/sentdex\n",
        "- UN Human Developments Data :http://hdr.undp.org/en/data#\n",
        "- WIKIPEDIA : https://www.wikipedia.org/\n",
        "\n",
        "**Take your learning further:**\n",
        "\n",
        "* [Learn Python the Hard Way](https://learncodethehardway.org/python/)\n",
        "* [Python Crash Course](https://ehmatthes.github.io/pcc/)"
      ]
    },
    {
      "cell_type": "code",
      "metadata": {
        "id": "20uxCIgWLxoV",
        "colab_type": "code",
        "colab": {}
      },
      "source": [
        "# Enter whatever code you want to here!"
      ],
      "execution_count": 0,
      "outputs": []
    }
  ]
}